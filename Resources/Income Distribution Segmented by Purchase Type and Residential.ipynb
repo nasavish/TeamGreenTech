{
 "cells": [
  {
   "cell_type": "code",
   "execution_count": 23,
   "metadata": {},
   "outputs": [],
   "source": [
    "# Dependencies\n",
    "import numpy as np\n",
    "import pandas as pd\n",
    "import matplotlib.pyplot as plt\n",
    "import seaborn as sns\n",
    "from datetime import *"
   ]
  },
  {
   "cell_type": "code",
   "execution_count": 24,
   "metadata": {},
   "outputs": [
    {
     "name": "stderr",
     "output_type": "stream",
     "text": [
      "/anaconda3/envs/PythonData/lib/python3.6/site-packages/IPython/core/interactiveshell.py:2728: DtypeWarning: Columns (1) have mixed types. Specify dtype option on import or set low_memory=False.\n",
      "  interactivity=interactivity, compiler=compiler, result=result)\n"
     ]
    },
    {
     "data": {
      "text/html": [
       "<div>\n",
       "<style scoped>\n",
       "    .dataframe tbody tr th:only-of-type {\n",
       "        vertical-align: middle;\n",
       "    }\n",
       "\n",
       "    .dataframe tbody tr th {\n",
       "        vertical-align: top;\n",
       "    }\n",
       "\n",
       "    .dataframe thead th {\n",
       "        text-align: right;\n",
       "    }\n",
       "</style>\n",
       "<table border=\"1\" class=\"dataframe\">\n",
       "  <thead>\n",
       "    <tr style=\"text-align: right;\">\n",
       "      <th></th>\n",
       "      <th>Project Number</th>\n",
       "      <th>City</th>\n",
       "      <th>Zip Code</th>\n",
       "      <th>Sector</th>\n",
       "      <th>Electric Utility</th>\n",
       "      <th>Purchase Type</th>\n",
       "      <th>Project Status</th>\n",
       "      <th>Date Application Received</th>\n",
       "      <th>Date Completed</th>\n",
       "      <th>Project Cost</th>\n",
       "      <th>...</th>\n",
       "      <th>education_associates</th>\n",
       "      <th>education_bachelors</th>\n",
       "      <th>education_masters</th>\n",
       "      <th>education_professional</th>\n",
       "      <th>education_doctorate</th>\n",
       "      <th>Date Application Received Int</th>\n",
       "      <th>Date Completed Int</th>\n",
       "      <th>Project Days Int</th>\n",
       "      <th>Completed Year</th>\n",
       "      <th>Completed Month</th>\n",
       "    </tr>\n",
       "  </thead>\n",
       "  <tbody>\n",
       "    <tr>\n",
       "      <th>0</th>\n",
       "      <td>4260-88892</td>\n",
       "      <td>Three Mile Bay</td>\n",
       "      <td>13693</td>\n",
       "      <td>Residential</td>\n",
       "      <td>National Grid</td>\n",
       "      <td>Purchase</td>\n",
       "      <td>Complete</td>\n",
       "      <td>2016-02-01</td>\n",
       "      <td>2016-09-21</td>\n",
       "      <td>29680.00</td>\n",
       "      <td>...</td>\n",
       "      <td>24.0</td>\n",
       "      <td>57.0</td>\n",
       "      <td>17.0</td>\n",
       "      <td>0.0</td>\n",
       "      <td>0.0</td>\n",
       "      <td>1454313600</td>\n",
       "      <td>1474441200</td>\n",
       "      <td>232</td>\n",
       "      <td>2016</td>\n",
       "      <td>9</td>\n",
       "    </tr>\n",
       "    <tr>\n",
       "      <th>1</th>\n",
       "      <td>89350</td>\n",
       "      <td>Queens</td>\n",
       "      <td>11434</td>\n",
       "      <td>Residential</td>\n",
       "      <td>Consolidated Edison</td>\n",
       "      <td>Lease</td>\n",
       "      <td>Complete</td>\n",
       "      <td>2017-05-30</td>\n",
       "      <td>2017-07-25</td>\n",
       "      <td>30791.25</td>\n",
       "      <td>...</td>\n",
       "      <td>3576.0</td>\n",
       "      <td>5680.0</td>\n",
       "      <td>2599.0</td>\n",
       "      <td>318.0</td>\n",
       "      <td>83.0</td>\n",
       "      <td>1496127600</td>\n",
       "      <td>1500966000</td>\n",
       "      <td>56</td>\n",
       "      <td>2017</td>\n",
       "      <td>7</td>\n",
       "    </tr>\n",
       "    <tr>\n",
       "      <th>2</th>\n",
       "      <td>93198</td>\n",
       "      <td>Bronx</td>\n",
       "      <td>10456</td>\n",
       "      <td>Residential</td>\n",
       "      <td>Consolidated Edison</td>\n",
       "      <td>Lease</td>\n",
       "      <td>Complete</td>\n",
       "      <td>2017-07-19</td>\n",
       "      <td>2017-09-20</td>\n",
       "      <td>13906.00</td>\n",
       "      <td>...</td>\n",
       "      <td>2522.0</td>\n",
       "      <td>3906.0</td>\n",
       "      <td>1054.0</td>\n",
       "      <td>242.0</td>\n",
       "      <td>50.0</td>\n",
       "      <td>1500447600</td>\n",
       "      <td>1505890800</td>\n",
       "      <td>63</td>\n",
       "      <td>2017</td>\n",
       "      <td>9</td>\n",
       "    </tr>\n",
       "    <tr>\n",
       "      <th>3</th>\n",
       "      <td>2011-157041-SLPR</td>\n",
       "      <td>Old Field</td>\n",
       "      <td>11733</td>\n",
       "      <td>Residential</td>\n",
       "      <td>PSEG Long Island</td>\n",
       "      <td>Purchase</td>\n",
       "      <td>Complete</td>\n",
       "      <td>2005-10-09</td>\n",
       "      <td>2005-10-09</td>\n",
       "      <td>NaN</td>\n",
       "      <td>...</td>\n",
       "      <td>850.0</td>\n",
       "      <td>2762.0</td>\n",
       "      <td>2489.0</td>\n",
       "      <td>984.0</td>\n",
       "      <td>950.0</td>\n",
       "      <td>1128841200</td>\n",
       "      <td>1128841200</td>\n",
       "      <td>0</td>\n",
       "      <td>2005</td>\n",
       "      <td>10</td>\n",
       "    </tr>\n",
       "    <tr>\n",
       "      <th>4</th>\n",
       "      <td>2011-158360-SLPR</td>\n",
       "      <td>Medford</td>\n",
       "      <td>11763</td>\n",
       "      <td>Residential</td>\n",
       "      <td>PSEG Long Island</td>\n",
       "      <td>Purchase</td>\n",
       "      <td>Complete</td>\n",
       "      <td>2009-04-23</td>\n",
       "      <td>2009-04-23</td>\n",
       "      <td>136952.00</td>\n",
       "      <td>...</td>\n",
       "      <td>2091.0</td>\n",
       "      <td>2898.0</td>\n",
       "      <td>1552.0</td>\n",
       "      <td>96.0</td>\n",
       "      <td>125.0</td>\n",
       "      <td>1240470000</td>\n",
       "      <td>1240470000</td>\n",
       "      <td>0</td>\n",
       "      <td>2009</td>\n",
       "      <td>4</td>\n",
       "    </tr>\n",
       "  </tbody>\n",
       "</table>\n",
       "<p>5 rows × 55 columns</p>\n",
       "</div>"
      ],
      "text/plain": [
       "     Project Number            City  Zip Code       Sector  \\\n",
       "0        4260-88892  Three Mile Bay     13693  Residential   \n",
       "1             89350          Queens     11434  Residential   \n",
       "2             93198           Bronx     10456  Residential   \n",
       "3  2011-157041-SLPR       Old Field     11733  Residential   \n",
       "4  2011-158360-SLPR         Medford     11763  Residential   \n",
       "\n",
       "      Electric Utility Purchase Type Project Status Date Application Received  \\\n",
       "0        National Grid      Purchase       Complete                2016-02-01   \n",
       "1  Consolidated Edison         Lease       Complete                2017-05-30   \n",
       "2  Consolidated Edison         Lease       Complete                2017-07-19   \n",
       "3     PSEG Long Island      Purchase       Complete                2005-10-09   \n",
       "4     PSEG Long Island      Purchase       Complete                2009-04-23   \n",
       "\n",
       "  Date Completed  Project Cost       ...         education_associates  \\\n",
       "0     2016-09-21      29680.00       ...                         24.0   \n",
       "1     2017-07-25      30791.25       ...                       3576.0   \n",
       "2     2017-09-20      13906.00       ...                       2522.0   \n",
       "3     2005-10-09           NaN       ...                        850.0   \n",
       "4     2009-04-23     136952.00       ...                       2091.0   \n",
       "\n",
       "   education_bachelors  education_masters education_professional  \\\n",
       "0                 57.0               17.0                    0.0   \n",
       "1               5680.0             2599.0                  318.0   \n",
       "2               3906.0             1054.0                  242.0   \n",
       "3               2762.0             2489.0                  984.0   \n",
       "4               2898.0             1552.0                   96.0   \n",
       "\n",
       "  education_doctorate Date Application Received Int  Date Completed Int  \\\n",
       "0                 0.0                    1454313600          1474441200   \n",
       "1                83.0                    1496127600          1500966000   \n",
       "2                50.0                    1500447600          1505890800   \n",
       "3               950.0                    1128841200          1128841200   \n",
       "4               125.0                    1240470000          1240470000   \n",
       "\n",
       "   Project Days Int  Completed Year  Completed Month  \n",
       "0               232            2016                9  \n",
       "1                56            2017                7  \n",
       "2                63            2017                9  \n",
       "3                 0            2005               10  \n",
       "4                 0            2009                4  \n",
       "\n",
       "[5 rows x 55 columns]"
      ]
     },
     "execution_count": 24,
     "metadata": {},
     "output_type": "execute_result"
    }
   ],
   "source": [
    "p_data = \"project_data_final.csv\"\n",
    "p_df = pd.read_csv(p_data)\n",
    "p_df['Date Completed'] = pd.to_datetime(p_df['Date Completed'])\n",
    "p_df = p_df.drop(columns=['Unnamed: 0'])\n",
    "p_df.head()\n"
   ]
  },
  {
   "cell_type": "code",
   "execution_count": 25,
   "metadata": {},
   "outputs": [
    {
     "data": {
      "text/html": [
       "<div>\n",
       "<style scoped>\n",
       "    .dataframe tbody tr th:only-of-type {\n",
       "        vertical-align: middle;\n",
       "    }\n",
       "\n",
       "    .dataframe tbody tr th {\n",
       "        vertical-align: top;\n",
       "    }\n",
       "\n",
       "    .dataframe thead th {\n",
       "        text-align: right;\n",
       "    }\n",
       "</style>\n",
       "<table border=\"1\" class=\"dataframe\">\n",
       "  <thead>\n",
       "    <tr style=\"text-align: right;\">\n",
       "      <th></th>\n",
       "      <th>Project Number</th>\n",
       "      <th>Sector</th>\n",
       "      <th>Date Completed</th>\n",
       "      <th>Expected KWh Annual Production</th>\n",
       "      <th>income</th>\n",
       "      <th>Purchase Type</th>\n",
       "    </tr>\n",
       "  </thead>\n",
       "  <tbody>\n",
       "    <tr>\n",
       "      <th>621</th>\n",
       "      <td>2011-156227-SLPR</td>\n",
       "      <td>Residential</td>\n",
       "      <td>2000-12-21</td>\n",
       "      <td>1409</td>\n",
       "      <td>94658.0</td>\n",
       "      <td>Purchase</td>\n",
       "    </tr>\n",
       "    <tr>\n",
       "      <th>124</th>\n",
       "      <td>2011-156225-SLPR</td>\n",
       "      <td>Residential</td>\n",
       "      <td>2000-12-21</td>\n",
       "      <td>1409</td>\n",
       "      <td>87327.0</td>\n",
       "      <td>Purchase</td>\n",
       "    </tr>\n",
       "    <tr>\n",
       "      <th>775</th>\n",
       "      <td>2011-156228-SLPR</td>\n",
       "      <td>Residential</td>\n",
       "      <td>2001-03-07</td>\n",
       "      <td>5165</td>\n",
       "      <td>24300.0</td>\n",
       "      <td>Purchase</td>\n",
       "    </tr>\n",
       "    <tr>\n",
       "      <th>467</th>\n",
       "      <td>2011-156229-SLPR</td>\n",
       "      <td>Residential</td>\n",
       "      <td>2001-03-07</td>\n",
       "      <td>2113</td>\n",
       "      <td>104986.0</td>\n",
       "      <td>Purchase</td>\n",
       "    </tr>\n",
       "    <tr>\n",
       "      <th>826</th>\n",
       "      <td>2011-156239-SLPR</td>\n",
       "      <td>Residential</td>\n",
       "      <td>2001-07-02</td>\n",
       "      <td>2582</td>\n",
       "      <td>90833.0</td>\n",
       "      <td>Purchase</td>\n",
       "    </tr>\n",
       "  </tbody>\n",
       "</table>\n",
       "</div>"
      ],
      "text/plain": [
       "       Project Number       Sector Date Completed  \\\n",
       "621  2011-156227-SLPR  Residential     2000-12-21   \n",
       "124  2011-156225-SLPR  Residential     2000-12-21   \n",
       "775  2011-156228-SLPR  Residential     2001-03-07   \n",
       "467  2011-156229-SLPR  Residential     2001-03-07   \n",
       "826  2011-156239-SLPR  Residential     2001-07-02   \n",
       "\n",
       "     Expected KWh Annual Production    income Purchase Type  \n",
       "621                            1409   94658.0      Purchase  \n",
       "124                            1409   87327.0      Purchase  \n",
       "775                            5165   24300.0      Purchase  \n",
       "467                            2113  104986.0      Purchase  \n",
       "826                            2582   90833.0      Purchase  "
      ]
     },
     "execution_count": 25,
     "metadata": {},
     "output_type": "execute_result"
    }
   ],
   "source": [
    "#create analysis data frames\n",
    "df = p_df[['Project Number','Sector','Date Completed','Expected KWh Annual Production', 'income', 'Purchase Type']]\n",
    "\n",
    "residential_df = df.loc[df['Sector'] == 'Residential']\n",
    "residential_df = residential_df.reset_index()\n",
    "residential_df = residential_df.drop(columns=['index'])\n",
    "residential_df = residential_df.sort_values('Date Completed', ascending=True)\n",
    "\n",
    "residential_df.head()"
   ]
  },
  {
   "cell_type": "code",
   "execution_count": 26,
   "metadata": {},
   "outputs": [],
   "source": [
    "# RENAMING DATAFRAME\n",
    "r_df = residential_df\n",
    "\n",
    "# RESIDENTIAL PURCHASE DF\n",
    "r_purchase_df = r_df.loc[r_df['Purchase Type'] == 'Purchase']\n",
    "\n",
    "# RESIDENTIAL LEASE DF\n",
    "r_lease_df = r_df.loc[r_df['Purchase Type'] == 'Lease']\n",
    "\n",
    "# RESIDENTIAL POWER PURCHASE AGREEMENT DF\n",
    "r_ppa_df = r_df.loc[r_df['Purchase Type'] == 'Power Purchase Agreement']\n"
   ]
  },
  {
   "cell_type": "code",
   "execution_count": 27,
   "metadata": {},
   "outputs": [
    {
     "name": "stderr",
     "output_type": "stream",
     "text": [
      "/anaconda3/envs/PythonData/lib/python3.6/site-packages/ipykernel_launcher.py:12: SettingWithCopyWarning: \n",
      "A value is trying to be set on a copy of a slice from a DataFrame.\n",
      "Try using .loc[row_indexer,col_indexer] = value instead\n",
      "\n",
      "See the caveats in the documentation: http://pandas.pydata.org/pandas-docs/stable/indexing.html#indexing-view-versus-copy\n",
      "  if sys.path[0] == '':\n"
     ]
    },
    {
     "data": {
      "image/png": "[encoded data removed]",
      "text/plain": [
       "<matplotlib.figure.Figure at 0x1a139f8dd8>"
      ]
     },
     "metadata": {},
     "output_type": "display_data"
    }
   ],
   "source": [
    "# [RESIDENTIAL - PURCHASE] INCOME DITRIBUTION\n",
    "\n",
    "plt.style.use('seaborn')\n",
    "\n",
    "\n",
    "bins = [0, 20000, 40000, 60000,80000, 100000, 120000, \n",
    "        140000, 160000, 180000, 200000, 220000 ,240000]\n",
    "labels = ['<$20k','$30k','$40k','$60k','$80k','$100k',\n",
    "              '$120k','$150k','$160k', '$180k', '$190k', '$210k+']\n",
    "\n",
    "test_df = r_purchase_df\n",
    "test_df['income bins'] = pd.cut(test_df['income'],bins=bins, labels=labels)\n",
    "\n",
    "rp_projects_per_income_bin = test_df['income bins'].value_counts()\n",
    "rp_projects_per_income_bin = rp_projects_per_income_bin.to_frame()\n",
    "rp_projects_per_income_bin = rp_projects_per_income_bin.reset_index()\n",
    "rp_projects_per_income_bin = rp_projects_per_income_bin.rename(columns={'index':'income bin', 'income bins':'purchase project count'})\n",
    "\n",
    "\n",
    "x_axis = np.arange(0, len(bins))\n",
    "plt.figure(figsize=(8.5,3.7))\n",
    "plt.bar(rp_projects_per_income_bin['income bin'], rp_projects_per_income_bin['purchase project count'])\n",
    "plt.xticks(x_axis, labels)\n",
    "plt.xlabel('Income Bracket')\n",
    "plt.ylabel('Total Installations')\n",
    "plt.title(\"Installation per Income in New York\")\n",
    "#plt.savefig(\"Installation_per_income.png\")\n",
    "plt.show()"
   ]
  },
  {
   "cell_type": "code",
   "execution_count": 28,
   "metadata": {},
   "outputs": [
    {
     "name": "stderr",
     "output_type": "stream",
     "text": [
      "/anaconda3/envs/PythonData/lib/python3.6/site-packages/ipykernel_launcher.py:12: SettingWithCopyWarning: \n",
      "A value is trying to be set on a copy of a slice from a DataFrame.\n",
      "Try using .loc[row_indexer,col_indexer] = value instead\n",
      "\n",
      "See the caveats in the documentation: http://pandas.pydata.org/pandas-docs/stable/indexing.html#indexing-view-versus-copy\n",
      "  if sys.path[0] == '':\n"
     ]
    },
    {
     "data": {
      "image/png": "[encoded data removed]",
      "text/plain": [
       "<matplotlib.figure.Figure at 0x1a139bee48>"
      ]
     },
     "metadata": {},
     "output_type": "display_data"
    }
   ],
   "source": [
    "# [RESIDENTIAL - LEASE] INCOME DITRIBUTION\n",
    "\n",
    "plt.style.use('seaborn')\n",
    "\n",
    "\n",
    "bins = [0, 20000, 40000, 60000,80000, 100000, 120000, \n",
    "        140000, 160000, 180000, 200000, 220000 ,240000]\n",
    "labels = ['<$20k','$30k','$40k','$60k','$80k','$100k',\n",
    "              '$120k','$150k','$160k', '$180k', '$190k', '$210k+']\n",
    "\n",
    "test1_df = r_lease_df\n",
    "test1_df['income bins'] = pd.cut(test1_df['income'],bins=bins, labels=labels)\n",
    "\n",
    "rl_projects_per_income_bin = test1_df['income bins'].value_counts()\n",
    "rl_projects_per_income_bin = rl_projects_per_income_bin.to_frame()\n",
    "rl_projects_per_income_bin = rl_projects_per_income_bin.reset_index()\n",
    "rl_projects_per_income_bin = rl_projects_per_income_bin.rename(columns={'index':'income bin', 'income bins':'lease project count'})\n",
    "\n",
    "\n",
    "x_axis = np.arange(0, len(bins))\n",
    "plt.figure(figsize=(8.5,3.7))\n",
    "plt.bar(rl_projects_per_income_bin['income bin'], rl_projects_per_income_bin['lease project count'])\n",
    "plt.xticks(x_axis, labels)\n",
    "plt.xlabel('Income Bracket')\n",
    "plt.ylabel('Total Installations')\n",
    "plt.title(\"Installation per Income in New York\")\n",
    "#plt.savefig(\"Installation_per_income.png\")\n",
    "plt.show()"
   ]
  },
  {
   "cell_type": "code",
   "execution_count": 76,
   "metadata": {},
   "outputs": [
    {
     "name": "stderr",
     "output_type": "stream",
     "text": [
      "/anaconda3/envs/PythonData/lib/python3.6/site-packages/ipykernel_launcher.py:12: SettingWithCopyWarning: \n",
      "A value is trying to be set on a copy of a slice from a DataFrame.\n",
      "Try using .loc[row_indexer,col_indexer] = value instead\n",
      "\n",
      "See the caveats in the documentation: http://pandas.pydata.org/pandas-docs/stable/indexing.html#indexing-view-versus-copy\n",
      "  if sys.path[0] == '':\n"
     ]
    },
    {
     "data": {
      "image/png": "[encoded data removed]",
      "text/plain": [
       "<matplotlib.figure.Figure at 0x1a13549dd8>"
      ]
     },
     "metadata": {},
     "output_type": "display_data"
    }
   ],
   "source": [
    "# [RESIDENTIAL - PPA] INCOME DITRIBUTION\n",
    "\n",
    "plt.style.use('seaborn')\n",
    "\n",
    "\n",
    "bins = [0, 20000, 40000, 60000,80000, 100000, 120000, \n",
    "        140000, 160000, 180000, 200000, 220000 ,240000]\n",
    "labels = ['<$20k','$30k','$40k','$60k','$80k','$100k',\n",
    "              '$120k','$150k','$160k', '$180k', '$190k', '$210k+']\n",
    "\n",
    "test2_df = r_ppa_df\n",
    "test2_df['income bins'] = pd.cut(test2_df['income'],bins=bins, labels=labels)\n",
    "\n",
    "rpa_projects_per_income_bin = test2_df['income bins'].value_counts()\n",
    "rpa_projects_per_income_bin = rpa_projects_per_income_bin.to_frame()\n",
    "rpa_projects_per_income_bin = rpa_projects_per_income_bin.reset_index()\n",
    "rpa_projects_per_income_bin = rpa_projects_per_income_bin.rename(columns={'index':'income bin', 'income bins':'ppa project count'})\n",
    "rpa_projects_per_income_bin\n",
    "\n",
    "x_axis = np.arange(0, len(bins))\n",
    "plt.figure(figsize=(8.5,3.7))\n",
    "plt.bar(rpa_projects_per_income_bin['income bin'], rpa_projects_per_income_bin['ppa project count'])\n",
    "plt.xticks(x_axis, labels)\n",
    "plt.xlabel('Income Bracket')\n",
    "plt.ylabel('Total Installations')\n",
    "plt.title(\"Installation per Income in New York\")\n",
    "#plt.savefig(\"Installation_per_income.png\")\n",
    "plt.show()"
   ]
  },
  {
   "cell_type": "code",
   "execution_count": 31,
   "metadata": {},
   "outputs": [
    {
     "data": {
      "image/png": "[encoded data removed]",
      "text/plain": [
       "<matplotlib.figure.Figure at 0x1a12d8e400>"
      ]
     },
     "metadata": {},
     "output_type": "display_data"
    }
   ],
   "source": [
    "x_axis = np.arange(0, len(bins))\n",
    "#plt.figure(figsize=(8.5,3.7))\n",
    "plt.bar(rp_projects_per_income_bin['income bin'], rp_projects_per_income_bin['purchase project count'], color='blue', label='Purchase')\n",
    "plt.bar(rl_projects_per_income_bin['income bin'], rl_projects_per_income_bin['lease project count'], color='green', label='Lease')\n",
    "plt.bar(rpa_projects_per_income_bin['income bin'], rpa_projects_per_income_bin['ppa project count'], color='yellow', label='PPA')\n",
    "plt.xticks(x_axis, labels)\n",
    "plt.xlabel('Income Bracket')\n",
    "plt.ylabel('Total Installations')\n",
    "plt.title(\"Installation per Income in New York\")\n",
    "plt.legend()\n",
    "#plt.savefig(\"Installation_per_income.png\")\n",
    "plt.show()"
   ]
  },
  {
   "cell_type": "code",
   "execution_count": 81,
   "metadata": {},
   "outputs": [
    {
     "data": {
      "text/plain": [
       "<matplotlib.axes._subplots.AxesSubplot at 0x1a11a2c7f0>"
      ]
     },
     "execution_count": 81,
     "metadata": {},
     "output_type": "execute_result"
    },
    {
     "data": {
      "image/png": "[encoded data removed]",
      "text/plain": [
       "<matplotlib.figure.Figure at 0x1a1252b6d8>"
      ]
     },
     "metadata": {},
     "output_type": "display_data"
    }
   ],
   "source": [
    "rp_projects_per_income_bin = rp_projects_per_income_bin.reindex([10,5,2,1,0,3,4,6,7,9,8,11])\n",
    "rp_projects_per_income_bin.plot('income bin', 'purchase project count', kind='bar')\n",
    "\n",
    "# rl_projects_per_income_bin = rl_projects_per_income_bin.reindex([11, 5 ,2, 0, 1, 3, 4, 6, 7, 8, 9, 10])\n",
    "# rl_projects_per_income_bin.plot('income bin', 'lease project count', kind='bar')\n",
    "\n",
    "# rpa_projects_per_income_bin = rpa_projects_per_income_bin.reindex([11, 4, 2, 0, 1, 3, 5, 6, 8, 7, 10, 9])\n",
    "# rpa_projects_per_income_bin.plot('income bin', 'ppa project count', kind='bar')\n"
   ]
  },
  {
   "cell_type": "code",
   "execution_count": 80,
   "metadata": {},
   "outputs": [
    {
     "name": "stderr",
     "output_type": "stream",
     "text": [
      "/anaconda3/envs/PythonData/lib/python3.6/site-packages/pandas/plotting/_core.py:1716: UserWarning: Pandas doesn't allow columns to be created via a new attribute name - see https://pandas.pydata.org/pandas-docs/stable/indexing.html#attribute-access\n",
      "  series.name = label\n"
     ]
    },
    {
     "data": {
      "text/plain": [
       "<matplotlib.axes._subplots.AxesSubplot at 0x1a12356908>"
      ]
     },
     "execution_count": 80,
     "metadata": {},
     "output_type": "execute_result"
    },
    {
     "data": {
      "image/png": "[encoded data removed]",
      "text/plain": [
       "<matplotlib.figure.Figure at 0x1a10ef0278>"
      ]
     },
     "metadata": {},
     "output_type": "display_data"
    }
   ],
   "source": [
    "merge1 = rp_projects_per_income_bin.merge(rl_projects_per_income_bin, on='income bin')\n",
    "merge2 = merge1.merge(rpa_projects_per_income_bin, on='income bin')\n",
    "#merge2 = merge2.reindex([10, 5, 2, 1, 0, 3, 4, 6, 7, 9, 8, 11])\n",
    "merge2\n",
    "\n",
    "merge2.plot('income bin', ['purchase project count', 'lease project count', 'ppa project count'], kind='bar')"
   ]
  },
  {
   "cell_type": "code",
   "execution_count": null,
   "metadata": {},
   "outputs": [],
   "source": []
  }
 ],
 "metadata": {
  "kernelspec": {
   "display_name": "Python 3",
   "language": "python",
   "name": "python3"
  },
  "language_info": {
   "codemirror_mode": {
    "name": "ipython",
    "version": 3
   },
   "file_extension": ".py",
   "mimetype": "text/x-python",
   "name": "python",
   "nbconvert_exporter": "python",
   "pygments_lexer": "ipython3",
   "version": "3.6.4"
  }
 },
 "nbformat": 4,
 "nbformat_minor": 2
}
