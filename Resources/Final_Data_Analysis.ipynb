{
 "cells": [
  {
   "cell_type": "markdown",
   "metadata": {},
   "source": [
    "# Data Analysis and Visualization"
   ]
  },
  {
   "cell_type": "markdown",
   "metadata": {},
   "source": [
    "## Pulling Formatting Solar data"
   ]
  },
  {
   "cell_type": "code",
   "execution_count": null,
   "metadata": {},
   "outputs": [],
   "source": [
    "# Import Libraries\n",
    "import pandas as pd \n",
    "import numpy as np\n",
    "import matplotlib.pyplot as plt\n",
    "import os\n",
    "from datetime import datetime\n",
    "%config IPCompleter.greedy=True\n"
   ]
  },
  {
   "cell_type": "markdown",
   "metadata": {},
   "source": [
    "## Penetration by Sector"
   ]
  },
  {
   "cell_type": "code",
   "execution_count": null,
   "metadata": {},
   "outputs": [],
   "source": [
    "plt.style.use('seaborn')\n",
    "plt.figure(figsize=(8.5,3.7))\n",
    "\n",
    "plt.plot(final_res_df['Date Completed'], final_res_df['Project Count'], color='blue', label='Residential')\n",
    "plt.plot(final_non_res_df['Date Completed'], final_non_res_df['Project Count'], color='red', label='Non-Residential')\n",
    "plt.xlabel('Year-Month')\n",
    "plt.ylabel('Total Projects')\n",
    "plt.title(\"Solar Penetration in New York\")\n",
    "plt.legend()\n",
    "plt.savefig('SolarPenetrationNY.png')\n",
    "plt.show()"
   ]
  },
  {
   "cell_type": "markdown",
   "metadata": {},
   "source": [
    "## Output by Sector"
   ]
  },
  {
   "cell_type": "code",
   "execution_count": null,
   "metadata": {},
   "outputs": [],
   "source": [
    "plt.style.use('seaborn')\n",
    "plt.figure(figsize=(8.5,3.7))\n",
    "\n",
    "plt.plot(final_res_df['Date Completed'], final_res_df['Expected KWh Annual Production'], color='blue', label='Residential')\n",
    "plt.plot(final_non_res_df['Date Completed'], final_non_res_df['Expected KWh Annual Production'], color='red', label='Non-Residential')\n",
    "plt.xlabel('Year-Month')\n",
    "plt.ylabel('Total KWh')\n",
    "plt.title(\"Solar Generation Output in New York\")\n",
    "plt.legend()\n",
    "plt.savefig('SolarGenerationNY.png')\n",
    "plt.show()"
   ]
  },
  {
   "cell_type": "markdown",
   "metadata": {},
   "source": [
    "## Adoption by Type"
   ]
  },
  {
   "cell_type": "code",
   "execution_count": null,
   "metadata": {},
   "outputs": [],
   "source": [
    "plt.style.use('seaborn')\n",
    "plt.figure(figsize=(8.5,3.7))\n",
    "plt.plot(final_purchase_df[\"Date Completed\"], final_purchase_df[\"Project Count\"], c='blue', label='Purchase')\n",
    "\n",
    "plt.plot(final_lease_df[\"Date Completed\"], final_lease_df[\"Project Count\"], c='green', label='Lease')\n",
    "\n",
    "plt.plot(final_ppa_df[\"Date Completed\"], final_ppa_df[\"Project Count\"], c='yellow', label='PPA')\n",
    "plt.xlabel('Year')\n",
    "plt.ylabel('Count')\n",
    "plt.title(\"Solar Power Installation\")\n",
    "plt.legend()\n",
    "plt.savefig(\"SolarInstallation_per_Year.png\")\n",
    "plt.show()"
   ]
  },
  {
   "cell_type": "markdown",
   "metadata": {},
   "source": [
    "## Installation by Income Distribution"
   ]
  },
  {
   "cell_type": "code",
   "execution_count": null,
   "metadata": {},
   "outputs": [],
   "source": [
    "# [RESIDENTIAL - PURCHASE] INCOME DITRIBUTION\n",
    "\n",
    "plt.style.use('seaborn')\n",
    "\n",
    "\n",
    "bins = [0, 20000, 40000, 60000,80000, 100000, 120000, \n",
    "        140000, 160000, 180000, 200000, 220000 ,240000]\n",
    "labels = ['<$20k','$30k','$40k','$60k','$80k','$100k',\n",
    "              '$120k','$150k','$160k', '$180k', '$190k', '$210k+']\n",
    "\n",
    "test_df = r_purchase_df\n",
    "test_df['income bins'] = pd.cut(test_df['income'],bins=bins, labels=labels)\n",
    "\n",
    "rp_projects_per_income_bin = test_df['income bins'].value_counts()\n",
    "rp_projects_per_income_bin = rp_projects_per_income_bin.to_frame()\n",
    "rp_projects_per_income_bin = rp_projects_per_income_bin.reset_index()\n",
    "rp_projects_per_income_bin = rp_projects_per_income_bin.rename(columns={'index':'income bin', 'income bins':'Purchase'})\n",
    "\n",
    "\n",
    "x_axis = np.arange(0, len(bins))\n",
    "plt.figure(figsize=(8.5,3.7))\n",
    "plt.bar(rp_projects_per_income_bin['income bin'], rp_projects_per_income_bin['Purchase'])\n",
    "plt.xticks(x_axis, labels)\n",
    "plt.xlabel('Income Bracket')\n",
    "plt.ylabel('Total Installations')\n",
    "plt.title(\"Installation per Income in New York\")\n",
    "#plt.savefig(\"Installation_per_income.png\")\n",
    "plt.show()"
   ]
  },
  {
   "cell_type": "markdown",
   "metadata": {},
   "source": [
    "## Adpotion Cost and Incentives"
   ]
  },
  {
   "cell_type": "code",
   "execution_count": null,
   "metadata": {},
   "outputs": [],
   "source": [
    "# Get current size\n",
    "from pylab import rcParams\n",
    "fig_size = plt.rcParams[“figure.figsize”]\n",
    "\n",
    "# Set figure width to 12 and height to 9\n",
    "fig_size[0] = 10\n",
    "fig_size[1] = 7\n",
    "plt.rcParams[“figure.figsize”] = fig_size\n",
    "\n",
    "sns.set_style(‘dark’)\n",
    "sns.set()\n",
    "normalize_factor = 25\n",
    "plt.scatter(years_type_purchase, percent_covered_type_purchase, count_type_purchase / normalize_factor, color=‘blue’, label = ‘Purchase’, alpha=.5)\n",
    "plt.scatter(years_type_lease, percent_covered_type_lease, count_type_lease / normalize_factor, color=‘green’, label = ‘Lease’, alpha=.5)\n",
    "plt.scatter(years_type_power, percent_covered_type_power, count_type_power / normalize_factor, color=‘red’, label = ‘Power Purchase Agreement’, alpha=.5)\n",
    "\n",
    "plt.xticks(np.arange(min(years_type_purchase), max(years_type_purchase)+1, 1.0))\n",
    "\n",
    "plt.xlabel(‘Year’)\n",
    "plt.ylabel(‘Mean Incentivization of Project Costs’)\n",
    "plt.title(‘Mean of Subsidies Awarded Yearly to Each Purchase Type’)\n",
    "plt.ylim(0, 80)\n",
    "plt.legend(framealpha=1, loc=‘best’, frameon=True)\n",
    "\n",
    "plt.text(10, -10, wrap = True )\n",
    "\n",
    "plt.show()\n",
    "plt.tight_layout()\n",
    "plt.savefig(“incent_by_year.png”)"
   ]
  },
  {
   "cell_type": "markdown",
   "metadata": {},
   "source": [
    "## Per Capita Solar Penetration Heat Map"
   ]
  },
  {
   "cell_type": "code",
   "execution_count": null,
   "metadata": {},
   "outputs": [],
   "source": [
    "#Create location lat/long combos\n",
    "import numpy as np\n",
    "solar_byzip.replace([np.inf, -np.inf], np.nan, inplace=True)\n",
    "solar_byzip.dropna(how = 'any', inplace = True)\n",
    "locations = solar_byzip[[\"lat\", \"long\"]]\n",
    "\n",
    "#Options\n",
    "solar_byzip['solar_weight'] = solar_byzip.solar_per_000.rank(pct = True)*8.9 + 1\n",
    "\n",
    "# Plot Base map              \n",
    "fig = gmaps.figure(map_type=\"TERRAIN\", zoom_level=7, center=(42.9, -75))\n",
    "\n",
    "\n",
    "# Create heat layer\n",
    "heat_layer = gmaps.heatmap_layer(\n",
    "    solar_byzip[[\"lat\", \"long\"]], dissipating=False, weights= solar_byzip['solar_weight'], \n",
    "    max_intensity=50, point_radius=0.10, opacity = 0.4)\n",
    "\n",
    "fig.add_layer(heat_layer)\n",
    "                                                        \n",
    "# Display figure\n",
    "fig\n"
   ]
  },
  {
   "cell_type": "markdown",
   "metadata": {},
   "source": [
    "## Per Capita Solar Penetration Symbol Layer Map"
   ]
  },
  {
   "cell_type": "code",
   "execution_count": null,
   "metadata": {},
   "outputs": [],
   "source": [
    "# Plot Base map     \n",
    "from ipywidgets.embed import embed_minimal_html\n",
    "fig = gmaps.figure(map_type=\"TERRAIN\", zoom_level=7, center=(42.9, -75))\n",
    "\n",
    "#Info Box content - Iterate through row, cresolar_byzip['solar_per_000']te string and append to pop up list\n",
    "popup_list = []\n",
    "\n",
    "for index, row in solar_byzip.iterrows():\n",
    "    popup = f\"Zip Code: {index}<br>\\n\" \\\n",
    "            f\"Solar per 1,000 (kW): {row['solar_per_000']:.2f}<br>\\n\" \\\n",
    "            f\"Population: {row['population']:,.0f}<br>\\n\" \\\n",
    "            f\"Total solar (kW): {row['Total_installedkW']:,.0f}\"\n",
    "            \n",
    "    popup_list.append(popup) \n",
    "\n",
    "\n",
    "#Create symbol layer (with hover and popups)\n",
    "solar_byzip['solar_weight'] = solar_byzip.solar_per_000.rank(pct = True)*8.9 + 1\n",
    "symbol_layer = gmaps.symbol_layer(\n",
    "    locations, fill_color = 'rgba(0, 152, 215, 0.4)',\n",
    "    stroke_color = 'rgba(0, 152, 215, 0.2)', \n",
    "    scale = [int(x) for x in solar_byzip.solar_weight.values],\n",
    "    info_box_content = popup_list\n",
    ")\n",
    "\n",
    "# #Add layers\n",
    "fig.add_layer(symbol_layer)\n",
    "\n",
    "embed_minimal_html('Solar Concentration.html', views=[fig])"
   ]
  },
  {
   "cell_type": "markdown",
   "metadata": {},
   "source": [
    "## Per Capita Solar Concentration Cloropleth Map"
   ]
  },
  {
   "cell_type": "code",
   "execution_count": null,
   "metadata": {},
   "outputs": [],
   "source": [
    "#A. Set color scale \n",
    "PuBu8.reverse()\n",
    "color_mapper = LinearColorMapper(palette=PuBu8)\n",
    "\n",
    "#B. Define source\n",
    "source = ColumnDataSource(zipdata)\n",
    "\n",
    "#C. Specify Figure\n",
    "TOOLS = \"pan,wheel_zoom,reset,hover,box_zoom,save\"\n",
    "p = figure(\n",
    "    title=\"New York Solar Penetration by zip code\", tools=TOOLS,\n",
    "    x_axis_location=None, y_axis_location=None, \n",
    "    plot_width = 1200, plot_height = 800\n",
    ")\n",
    "\n",
    "#D. Add Polygons\n",
    "p.patches('lats', 'longs', source=source,\n",
    "          fill_color={'field': 'solar_rank', 'transform': color_mapper},\n",
    "          fill_alpha=0.7, line_color=\"white\", line_width=0.5)\n",
    "\n",
    "#E. Specify Hover Options\n",
    "hover = p.select_one(HoverTool)\n",
    "hover.point_policy = \"follow_mouse\"\n",
    "hover.tooltips = [\n",
    "    (\"Zip Code:\", \"@zipcode\"),\n",
    "    (\"Solar (kW) per 1,000 people\", \"@solar_per_000{0,0.0}\"),\n",
    "    (\"Total Solar Installed (kW)\", \"@Total_installedkW{0,0}\"),\n",
    "    (\"Population\", \"@population{0,0}\"), \n",
    "    (\"(Long, Lat)\", \"($x, $y)\"),\n",
    "]\n",
    "\n",
    "#F. Remove grid lines\n",
    "p.grid.grid_line_color = None\n",
    "\n",
    "#G. Add Scale\n",
    "#H.Show and save figure\n",
    "show(p)"
   ]
  },
  {
   "cell_type": "code",
   "execution_count": null,
   "metadata": {},
   "outputs": [],
   "source": []
  }
 ],
 "metadata": {
  "kernelspec": {
   "display_name": "Python 3",
   "language": "python",
   "name": "python3"
  },
  "language_info": {
   "codemirror_mode": {
    "name": "ipython",
    "version": 3
   },
   "file_extension": ".py",
   "mimetype": "text/x-python",
   "name": "python",
   "nbconvert_exporter": "python",
   "pygments_lexer": "ipython3",
   "version": "3.6.4"
  }
 },
 "nbformat": 4,
 "nbformat_minor": 2
}
