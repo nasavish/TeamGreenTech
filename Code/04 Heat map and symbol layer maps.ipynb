{
 "cells": [
  {
   "cell_type": "markdown",
   "metadata": {},
   "source": [
    "# Create Zip Code Level Summary Dataset"
   ]
  },
  {
   "cell_type": "code",
   "execution_count": 1,
   "metadata": {},
   "outputs": [],
   "source": [
    "import os \n",
    "from datetime import datetime\n",
    "import pandas as pd\n",
    "import gmaps\n",
    "import apikeys\n",
    "import matplotlib.pyplot as plt\n",
    "import numpy as np\n",
    "\n",
    "plt.style.use('bmh')\n",
    "\n",
    "# Configure gmaps\n",
    "gmaps.configure(api_key=apikeys.gmap_key)\n",
    "%matplotlib inline  "
   ]
  },
  {
   "cell_type": "code",
   "execution_count": 2,
   "metadata": {},
   "outputs": [
    {
     "name": "stderr",
     "output_type": "stream",
     "text": [
      "C:\\Users\\bodej\\AppData\\Local\\conda\\conda\\envs\\PythonData\\lib\\site-packages\\IPython\\core\\interactiveshell.py:2728: DtypeWarning: Columns (1) have mixed types. Specify dtype option on import or set low_memory=False.\n",
      "  interactivity=interactivity, compiler=compiler, result=result)\n"
     ]
    }
   ],
   "source": [
    "#Read in Data\n",
    "path = os.path.join('..', 'Resources', 'project_data.csv')\n",
    "solar = pd.read_csv(path)"
   ]
  },
  {
   "cell_type": "code",
   "execution_count": 3,
   "metadata": {},
   "outputs": [],
   "source": [
    "#Parse lat/long from Location 1 variable\n",
    "latlong = pd.DataFrame(solar[\"Location 1\"].str.split('(',1).tolist(),\n",
    "                                   columns = ['junk','realstuff'])\n",
    "latlong['realstuff'] = latlong.realstuff.str.replace(  ')', '')\n",
    "latlong = latlong.realstuff.str.split(\", \", expand = True )\n",
    "solar['lat'] = latlong.iloc[:, 0]\n",
    "solar['long'] = latlong.iloc[:, 1]\n",
    "solar['lat'] = pd.to_numeric(solar['lat'])\n",
    "solar['long'] = pd.to_numeric(solar['long'])\n",
    "\n",
    "del latlong\n"
   ]
  },
  {
   "cell_type": "code",
   "execution_count": 4,
   "metadata": {},
   "outputs": [
    {
     "name": "stdout",
     "output_type": "stream",
     "text": [
      "            Unnamed: 0   Project Cost    $Incentive  Total Nameplate kW DC  \\\n",
      "Zip Code                                                                     \n",
      "501       52608.416667   99545.309167   9133.083333                31.5575   \n",
      "10001     23612.400000   75003.056000  17103.000000                 9.4840   \n",
      "10002     39548.000000   47698.800000  15107.200000                 6.5580   \n",
      "10009     32691.600000   53099.400000  10138.000000                10.9400   \n",
      "10011     41404.000000  320921.577500  48147.125000                43.1200   \n",
      "\n",
      "          Expected KWh Annual Production  $_per_watt  $_per_watt_wincentives  \\\n",
      "Zip Code                                                                       \n",
      "501                         37040.916667    4.523585                4.311025   \n",
      "10001                       11131.400000    8.149811                6.467862   \n",
      "10002                        7696.800000    7.381365                5.037903   \n",
      "10009                       12841.800000    8.394005                7.054005   \n",
      "10011                       50616.000000    8.478871                6.649121   \n",
      "\n",
      "            income  income_per_capital  employment_employed    ...      \\\n",
      "Zip Code                                                       ...       \n",
      "501            NaN                 NaN                  NaN    ...       \n",
      "10001      81671.0             82166.0              13037.0    ...       \n",
      "10002      33218.0             26227.0              35330.0    ...       \n",
      "10009      59929.0             43893.0              34747.0    ...       \n",
      "10011     104238.0            110631.0              34306.0    ...       \n",
      "\n",
      "          education_none  education_high_school  education_ged  \\\n",
      "Zip Code                                                         \n",
      "501                  NaN                    NaN            NaN   \n",
      "10001              242.0                  963.0          368.0   \n",
      "10002             4404.0                10825.0         1715.0   \n",
      "10009             1224.0                 5451.0         1000.0   \n",
      "10011              357.0                 2600.0          403.0   \n",
      "\n",
      "          education_associates  education_bachelors  education_masters  \\\n",
      "Zip Code                                                                 \n",
      "501                        NaN                  NaN                NaN   \n",
      "10001                    515.0               5960.0             3399.0   \n",
      "10002                   2470.0              12969.0             3515.0   \n",
      "10009                   1583.0              17247.0             6824.0   \n",
      "10011                   1299.0              17389.0             9571.0   \n",
      "\n",
      "          education_professional  education_doctorate        lat       long  \n",
      "Zip Code                                                                     \n",
      "501                          NaN                  NaN  40.815498 -73.044849  \n",
      "10001                     1154.0                490.0  40.750166 -73.996575  \n",
      "10002                     1208.0                586.0  40.715712 -73.987053  \n",
      "10009                     2267.0               1155.0  40.727235 -73.978411  \n",
      "10011                     4483.0               1841.0  40.741625 -74.000479  \n",
      "\n",
      "[5 rows x 41 columns]\n"
     ]
    }
   ],
   "source": [
    "#04 Produce a dataset summarizing key variables by zip code\n",
    "solar_byzip_group = solar.groupby(by = [\"Zip Code\"])\n",
    "solar_byzip = pd.DataFrame(solar_byzip_group.mean())\n",
    "print(solar_byzip.head())"
   ]
  },
  {
   "cell_type": "code",
   "execution_count": 5,
   "metadata": {},
   "outputs": [],
   "source": [
    "#Rename variables\n",
    "solar_byzip.rename(inplace = True, \n",
    "             columns = { \n",
    "                 \"Project_cost\": \"Avg_cost\", \n",
    "                 \"$Incentive\":\"Avg_incentive\",\n",
    "                 \"Expected KWh Annual Production\": \"avg_annualkwh\", \n",
    "                 \"$_per_watt\": \"Avg_$perwatt\",\n",
    "                 \"$_per_watt_wincentives\": \"Avg_$perwatt_wincentive\",\n",
    "                 \"Total Nameplate kW DC\": \"Avg_installedkW\"\n",
    "             })\n",
    "                   \n",
    "#Add in calculated variables\n",
    "solar_byzip['Total_installedkW'] = solar_byzip_group['Total Nameplate kW DC'].sum()\n",
    "solar_byzip['Total_AnnualMWh'] = solar_byzip_group['Expected KWh Annual Production'].sum()/1000\n",
    "solar_byzip['Projects'] = solar_byzip_group['Project Number'].count()\n",
    "solar_byzip['solar_per_000'] = solar_byzip['Total_installedkW']/(solar_byzip['population']/1000)"
   ]
  },
  {
   "cell_type": "code",
   "execution_count": 6,
   "metadata": {},
   "outputs": [],
   "source": [
    "solar_byzip['solar_per_000'].describe()\n",
    "solar_byzip.to_pickle(\"../Resources/Solar data summary by zip\")"
   ]
  },
  {
   "cell_type": "code",
   "execution_count": 7,
   "metadata": {},
   "outputs": [
    {
     "data": {
      "text/html": [
       "<div>\n",
       "<style scoped>\n",
       "    .dataframe tbody tr th:only-of-type {\n",
       "        vertical-align: middle;\n",
       "    }\n",
       "\n",
       "    .dataframe tbody tr th {\n",
       "        vertical-align: top;\n",
       "    }\n",
       "\n",
       "    .dataframe thead th {\n",
       "        text-align: right;\n",
       "    }\n",
       "</style>\n",
       "<table border=\"1\" class=\"dataframe\">\n",
       "  <thead>\n",
       "    <tr style=\"text-align: right;\">\n",
       "      <th></th>\n",
       "      <th>solar_per_000</th>\n",
       "      <th>population</th>\n",
       "      <th>Total_installedkW</th>\n",
       "    </tr>\n",
       "    <tr>\n",
       "      <th>Zip Code</th>\n",
       "      <th></th>\n",
       "      <th></th>\n",
       "      <th></th>\n",
       "    </tr>\n",
       "  </thead>\n",
       "  <tbody>\n",
       "    <tr>\n",
       "      <th>501</th>\n",
       "      <td>NaN</td>\n",
       "      <td>NaN</td>\n",
       "      <td>378.69</td>\n",
       "    </tr>\n",
       "    <tr>\n",
       "      <th>10001</th>\n",
       "      <td>4.317582</td>\n",
       "      <td>21966.0</td>\n",
       "      <td>94.84</td>\n",
       "    </tr>\n",
       "    <tr>\n",
       "      <th>10002</th>\n",
       "      <td>0.398949</td>\n",
       "      <td>82191.0</td>\n",
       "      <td>32.79</td>\n",
       "    </tr>\n",
       "    <tr>\n",
       "      <th>10009</th>\n",
       "      <td>0.870880</td>\n",
       "      <td>62810.0</td>\n",
       "      <td>54.70</td>\n",
       "    </tr>\n",
       "    <tr>\n",
       "      <th>10011</th>\n",
       "      <td>3.306305</td>\n",
       "      <td>52167.0</td>\n",
       "      <td>172.48</td>\n",
       "    </tr>\n",
       "  </tbody>\n",
       "</table>\n",
       "</div>"
      ],
      "text/plain": [
       "          solar_per_000  population  Total_installedkW\n",
       "Zip Code                                              \n",
       "501                 NaN         NaN             378.69\n",
       "10001          4.317582     21966.0              94.84\n",
       "10002          0.398949     82191.0              32.79\n",
       "10009          0.870880     62810.0              54.70\n",
       "10011          3.306305     52167.0             172.48"
      ]
     },
     "execution_count": 7,
     "metadata": {},
     "output_type": "execute_result"
    }
   ],
   "source": [
    "check = solar_byzip[[ 'solar_per_000', 'population', 'Total_installedkW']]\n",
    "check.head()"
   ]
  },
  {
   "cell_type": "code",
   "execution_count": 8,
   "metadata": {},
   "outputs": [
    {
     "data": {
      "application/vnd.jupyter.widget-view+json": {
       "model_id": "bc0fd60201664f7cb33cb3dddfdade5d",
       "version_major": 2,
       "version_minor": 0
      },
      "text/plain": [
       "Figure(layout=FigureLayout(height='420px'))"
      ]
     },
     "metadata": {},
     "output_type": "display_data"
    }
   ],
   "source": [
    "#Create location lat/long combos\n",
    "import numpy as np\n",
    "solar_byzip.replace([np.inf, -np.inf], np.nan, inplace=True)\n",
    "solar_byzip.dropna(how = 'any', inplace = True)\n",
    "locations = solar_byzip[[\"lat\", \"long\"]]\n",
    "\n",
    "#Options\n",
    "solar_byzip['solar_weight'] = solar_byzip.solar_per_000.rank(pct = True)*8.9 + 1\n",
    "\n",
    "# Plot Base map              \n",
    "fig = gmaps.figure(map_type=\"TERRAIN\", zoom_level=7, center=(42.9, -75))\n",
    "\n",
    "\n",
    "# Create heat layer\n",
    "heat_layer = gmaps.heatmap_layer(\n",
    "    solar_byzip[[\"lat\", \"long\"]], dissipating=False, weights= solar_byzip['solar_weight'], \n",
    "    max_intensity=50, point_radius=0.10, opacity = 0.4)\n",
    "\n",
    "fig.add_layer(heat_layer)\n",
    "                                                        \n",
    "# Display figure\n",
    "fig\n"
   ]
  },
  {
   "cell_type": "code",
   "execution_count": 22,
   "metadata": {},
   "outputs": [],
   "source": [
    "heat_layer.max_intensity =50\n",
    "heat_layer.point_radius= 0.10"
   ]
  },
  {
   "cell_type": "code",
   "execution_count": 23,
   "metadata": {
    "scrolled": true
   },
   "outputs": [
    {
     "data": {
      "application/vnd.jupyter.widget-view+json": {
       "model_id": "f90b67df486a4f6d894a2bce3fb8fc52",
       "version_major": 2,
       "version_minor": 0
      },
      "text/plain": [
       "Figure(layout=FigureLayout(height='420px'))"
      ]
     },
     "metadata": {},
     "output_type": "display_data"
    }
   ],
   "source": [
    "# Plot Base map     \n",
    "from ipywidgets.embed import embed_minimal_html\n",
    "fig = gmaps.figure(map_type=\"TERRAIN\", zoom_level=7, center=(42.9, -75))\n",
    "\n",
    "#Info Box content - Iterate through row, cresolar_byzip['solar_per_000']te string and append to pop up list\n",
    "popup_list = []\n",
    "\n",
    "for index, row in solar_byzip.iterrows():\n",
    "    popup = f\"Zip Code: {index}<br>\\n\" \\\n",
    "            f\"Solar per 1,000 (kW): {row['solar_per_000']:.2f}<br>\\n\" \\\n",
    "            f\"Population: {row['population']:,.0f}<br>\\n\" \\\n",
    "            f\"Total solar (kW): {row['Total_installedkW']:,.0f}\"\n",
    "            \n",
    "    popup_list.append(popup) \n",
    "\n",
    "\n",
    "\n",
    "#Create symbol layer (with hover and popups)\n",
    "solar_byzip['solar_weight'] = solar_byzip.solar_per_000.rank(pct = True)*8.9 + 1\n",
    "symbol_layer = gmaps.symbol_layer(\n",
    "    locations, fill_color = 'rgba(0, 152, 215, 0.4)',\n",
    "    stroke_color = 'rgba(0, 152, 215, 0.2)', \n",
    "    scale = [int(x) for x in solar_byzip.solar_weight.values],\n",
    "    info_box_content = popup_list\n",
    ")\n",
    "\n",
    "# #Add layers\n",
    "# fig.add_layer(heat_layer)\n",
    "fig.add_layer(symbol_layer)\n",
    "\n",
    "embed_minimal_html('Solar Concentration.html', views=[fig])\n",
    "\n",
    "fig"
   ]
  }
 ],
 "metadata": {
  "kernelspec": {
   "display_name": "Python 3",
   "language": "python",
   "name": "python3"
  },
  "language_info": {
   "codemirror_mode": {
    "name": "ipython",
    "version": 3
   },
   "file_extension": ".py",
   "mimetype": "text/x-python",
   "name": "python",
   "nbconvert_exporter": "python",
   "pygments_lexer": "ipython3",
   "version": "3.6.4"
  }
 },
 "nbformat": 4,
 "nbformat_minor": 2
}
