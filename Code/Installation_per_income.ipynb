{
 "cells": [
  {
   "cell_type": "code",
   "execution_count": 1,
   "metadata": {},
   "outputs": [],
   "source": [
    "# Dependencies\n",
    "import numpy as np\n",
    "import pandas as pd\n",
    "import matplotlib.pyplot as plt\n",
    "import seaborn as sns\n",
    "from datetime import *"
   ]
  },
  {
   "cell_type": "code",
   "execution_count": 2,
   "metadata": {},
   "outputs": [
    {
     "name": "stderr",
     "output_type": "stream",
     "text": [
      "/Users/dmanandhar/anaconda3/envs/PythonData/lib/python3.6/site-packages/IPython/core/interactiveshell.py:2728: DtypeWarning: Columns (1) have mixed types. Specify dtype option on import or set low_memory=False.\n",
      "  interactivity=interactivity, compiler=compiler, result=result)\n"
     ]
    }
   ],
   "source": [
    "p_data = \"../Resources/project_data_final.csv\"\n",
    "p_df = pd.read_csv(p_data)\n",
    "p_df['Date Completed'] = pd.to_datetime(p_df['Date Completed'])\n",
    "#p_df = p_df.sort_values('Date Application Received', ascending=True)\n",
    "p_df = p_df.drop(columns=['Unnamed: 0'])\n",
    "#p_df.head()\n"
   ]
  },
  {
   "cell_type": "code",
   "execution_count": 3,
   "metadata": {},
   "outputs": [
    {
     "data": {
      "text/html": [
       "<div>\n",
       "<style scoped>\n",
       "    .dataframe tbody tr th:only-of-type {\n",
       "        vertical-align: middle;\n",
       "    }\n",
       "\n",
       "    .dataframe tbody tr th {\n",
       "        vertical-align: top;\n",
       "    }\n",
       "\n",
       "    .dataframe thead th {\n",
       "        text-align: right;\n",
       "    }\n",
       "</style>\n",
       "<table border=\"1\" class=\"dataframe\">\n",
       "  <thead>\n",
       "    <tr style=\"text-align: right;\">\n",
       "      <th></th>\n",
       "      <th>Project Number</th>\n",
       "      <th>Sector</th>\n",
       "      <th>Date Completed</th>\n",
       "      <th>Expected KWh Annual Production</th>\n",
       "      <th>income</th>\n",
       "    </tr>\n",
       "  </thead>\n",
       "  <tbody>\n",
       "    <tr>\n",
       "      <th>621</th>\n",
       "      <td>2011-156227-SLPR</td>\n",
       "      <td>Residential</td>\n",
       "      <td>2000-12-21</td>\n",
       "      <td>1409</td>\n",
       "      <td>94658.0</td>\n",
       "    </tr>\n",
       "    <tr>\n",
       "      <th>124</th>\n",
       "      <td>2011-156225-SLPR</td>\n",
       "      <td>Residential</td>\n",
       "      <td>2000-12-21</td>\n",
       "      <td>1409</td>\n",
       "      <td>87327.0</td>\n",
       "    </tr>\n",
       "    <tr>\n",
       "      <th>775</th>\n",
       "      <td>2011-156228-SLPR</td>\n",
       "      <td>Residential</td>\n",
       "      <td>2001-03-07</td>\n",
       "      <td>5165</td>\n",
       "      <td>24300.0</td>\n",
       "    </tr>\n",
       "    <tr>\n",
       "      <th>467</th>\n",
       "      <td>2011-156229-SLPR</td>\n",
       "      <td>Residential</td>\n",
       "      <td>2001-03-07</td>\n",
       "      <td>2113</td>\n",
       "      <td>104986.0</td>\n",
       "    </tr>\n",
       "    <tr>\n",
       "      <th>826</th>\n",
       "      <td>2011-156239-SLPR</td>\n",
       "      <td>Residential</td>\n",
       "      <td>2001-07-02</td>\n",
       "      <td>2582</td>\n",
       "      <td>90833.0</td>\n",
       "    </tr>\n",
       "  </tbody>\n",
       "</table>\n",
       "</div>"
      ],
      "text/plain": [
       "       Project Number       Sector Date Completed  \\\n",
       "621  2011-156227-SLPR  Residential     2000-12-21   \n",
       "124  2011-156225-SLPR  Residential     2000-12-21   \n",
       "775  2011-156228-SLPR  Residential     2001-03-07   \n",
       "467  2011-156229-SLPR  Residential     2001-03-07   \n",
       "826  2011-156239-SLPR  Residential     2001-07-02   \n",
       "\n",
       "     Expected KWh Annual Production    income  \n",
       "621                            1409   94658.0  \n",
       "124                            1409   87327.0  \n",
       "775                            5165   24300.0  \n",
       "467                            2113  104986.0  \n",
       "826                            2582   90833.0  "
      ]
     },
     "execution_count": 3,
     "metadata": {},
     "output_type": "execute_result"
    }
   ],
   "source": [
    "#create analysis data frames\n",
    "df = p_df[['Project Number','Sector','Date Completed','Expected KWh Annual Production', 'income']]\n",
    "\n",
    "residential_df = df.loc[df['Sector'] == 'Residential']\n",
    "residential_df = residential_df.reset_index()\n",
    "residential_df = residential_df.drop(columns=['index'])\n",
    "residential_df = residential_df.sort_values('Date Completed', ascending=True)\n",
    "\n",
    "residential_df.head()"
   ]
  },
  {
   "cell_type": "code",
   "execution_count": 4,
   "metadata": {},
   "outputs": [],
   "source": [
    "min_income = residential_df['income'].min()\n",
    "max_income = residential_df['income'].max()\n",
    "#print('min income: '+str(min_income) + ' max income: ' + str(max_income))\n"
   ]
  },
  {
   "cell_type": "code",
   "execution_count": 5,
   "metadata": {},
   "outputs": [
    {
     "data": {
      "image/png": "[encoded data removed]",
      "text/plain": [
       "<matplotlib.figure.Figure at 0x105d61e48>"
      ]
     },
     "metadata": {},
     "output_type": "display_data"
    }
   ],
   "source": [
    "# step = (max_income - min_income)/11\n",
    "# income_bins = []\n",
    "# number = min_income\n",
    "# while number < max_income:\n",
    "#      income_bins.append(number+step)\n",
    "\n",
    "plt.style.use('seaborn')\n",
    "\n",
    "\n",
    "bins = [0, 20000, 40000, 60000,80000, 100000, 120000, \n",
    "        140000, 160000, 180000, 200000, 220000 ,240000]\n",
    "labels = ['<$20k','$30k','$40k','$60k','$80k','$100k',\n",
    "              '$120k','$150k','$160k', '$180k', '$190k', '$210k+']\n",
    "\n",
    "test_df = residential_df\n",
    "test_df['income bins'] = pd.cut(test_df['income'],bins=bins, labels=labels)\n",
    "\n",
    "projects_per_income_bin = test_df['income bins'].value_counts()\n",
    "projects_per_income_bin = projects_per_income_bin.to_frame()\n",
    "projects_per_income_bin = projects_per_income_bin.reset_index()\n",
    "projects_per_income_bin = projects_per_income_bin.rename(columns={'index':'income bin', 'income bins':'project count'})\n",
    "\n",
    "\n",
    "x_axis = np.arange(0, len(bins))\n",
    "plt.figure(figsize=(8.5,3.7))\n",
    "plt.bar(projects_per_income_bin['income bin'], projects_per_income_bin['project count'])\n",
    "plt.xticks(x_axis, labels)\n",
    "plt.xlabel('Income Bracket')\n",
    "plt.ylabel('Total Installations')\n",
    "plt.title(\"Installation per Income in New York\")\n",
    "plt.savefig(\"Installation_per_income.png\")\n",
    "plt.show()"
   ]
  },
  {
   "cell_type": "code",
   "execution_count": null,
   "metadata": {},
   "outputs": [],
   "source": []
  }
 ],
 "metadata": {
  "kernelspec": {
   "display_name": "Python 3",
   "language": "python",
   "name": "python3"
  },
  "language_info": {
   "codemirror_mode": {
    "name": "ipython",
    "version": 3
   },
   "file_extension": ".py",
   "mimetype": "text/x-python",
   "name": "python",
   "nbconvert_exporter": "python",
   "pygments_lexer": "ipython3",
   "version": "3.6.4"
  }
 },
 "nbformat": 4,
 "nbformat_minor": 2
}
