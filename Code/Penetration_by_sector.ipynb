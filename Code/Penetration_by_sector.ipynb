{
 "cells": [
  {
   "cell_type": "code",
   "execution_count": 1,
   "metadata": {},
   "outputs": [],
   "source": [
    "# Dependencies\n",
    "import numpy as np\n",
    "import pandas as pd\n",
    "import matplotlib.pyplot as plt\n",
    "import seaborn as sns\n",
    "from datetime import *\n"
   ]
  },
  {
   "cell_type": "code",
   "execution_count": 2,
   "metadata": {},
   "outputs": [
    {
     "name": "stderr",
     "output_type": "stream",
     "text": [
      "/Users/dmanandhar/anaconda3/envs/PythonData/lib/python3.6/site-packages/IPython/core/interactiveshell.py:2728: DtypeWarning: Columns (1) have mixed types. Specify dtype option on import or set low_memory=False.\n",
      "  interactivity=interactivity, compiler=compiler, result=result)\n"
     ]
    }
   ],
   "source": [
    "p_data = \"../Resources/project_data_final.csv\"\n",
    "p_df = pd.read_csv(p_data)\n",
    "p_df['Date Completed'] = pd.to_datetime(p_df['Date Completed'])\n",
    "#p_df = p_df.sort_values('Date Application Received', ascending=True)\n",
    "p_df = p_df.drop(columns=['Unnamed: 0'])\n",
    "#p_df.head()\n",
    "dates = p_df['Date Completed']\n",
    "y_m = []\n",
    "for date in dates:\n",
    "    y_m.append(date.strftime('%Y-%m'))\n",
    "    \n",
    "p_df['Year-Month'] = y_m"
   ]
  },
  {
   "cell_type": "code",
   "execution_count": 3,
   "metadata": {},
   "outputs": [
    {
     "data": {
      "text/html": [
       "<div>\n",
       "<style scoped>\n",
       "    .dataframe tbody tr th:only-of-type {\n",
       "        vertical-align: middle;\n",
       "    }\n",
       "\n",
       "    .dataframe tbody tr th {\n",
       "        vertical-align: top;\n",
       "    }\n",
       "\n",
       "    .dataframe thead th {\n",
       "        text-align: right;\n",
       "    }\n",
       "</style>\n",
       "<table border=\"1\" class=\"dataframe\">\n",
       "  <thead>\n",
       "    <tr style=\"text-align: right;\">\n",
       "      <th></th>\n",
       "      <th>Project Number</th>\n",
       "      <th>Sector</th>\n",
       "      <th>Date Completed</th>\n",
       "      <th>Expected KWh Annual Production</th>\n",
       "      <th>Year-Month</th>\n",
       "    </tr>\n",
       "  </thead>\n",
       "  <tbody>\n",
       "    <tr>\n",
       "      <th>621</th>\n",
       "      <td>2011-156227-SLPR</td>\n",
       "      <td>Residential</td>\n",
       "      <td>2000-12-21</td>\n",
       "      <td>1409</td>\n",
       "      <td>2000-12</td>\n",
       "    </tr>\n",
       "    <tr>\n",
       "      <th>124</th>\n",
       "      <td>2011-156225-SLPR</td>\n",
       "      <td>Residential</td>\n",
       "      <td>2000-12-21</td>\n",
       "      <td>1409</td>\n",
       "      <td>2000-12</td>\n",
       "    </tr>\n",
       "    <tr>\n",
       "      <th>775</th>\n",
       "      <td>2011-156228-SLPR</td>\n",
       "      <td>Residential</td>\n",
       "      <td>2001-03-07</td>\n",
       "      <td>5165</td>\n",
       "      <td>2001-03</td>\n",
       "    </tr>\n",
       "    <tr>\n",
       "      <th>467</th>\n",
       "      <td>2011-156229-SLPR</td>\n",
       "      <td>Residential</td>\n",
       "      <td>2001-03-07</td>\n",
       "      <td>2113</td>\n",
       "      <td>2001-03</td>\n",
       "    </tr>\n",
       "    <tr>\n",
       "      <th>826</th>\n",
       "      <td>2011-156239-SLPR</td>\n",
       "      <td>Residential</td>\n",
       "      <td>2001-07-02</td>\n",
       "      <td>2582</td>\n",
       "      <td>2001-07</td>\n",
       "    </tr>\n",
       "  </tbody>\n",
       "</table>\n",
       "</div>"
      ],
      "text/plain": [
       "       Project Number       Sector Date Completed  \\\n",
       "621  2011-156227-SLPR  Residential     2000-12-21   \n",
       "124  2011-156225-SLPR  Residential     2000-12-21   \n",
       "775  2011-156228-SLPR  Residential     2001-03-07   \n",
       "467  2011-156229-SLPR  Residential     2001-03-07   \n",
       "826  2011-156239-SLPR  Residential     2001-07-02   \n",
       "\n",
       "     Expected KWh Annual Production Year-Month  \n",
       "621                            1409    2000-12  \n",
       "124                            1409    2000-12  \n",
       "775                            5165    2001-03  \n",
       "467                            2113    2001-03  \n",
       "826                            2582    2001-07  "
      ]
     },
     "execution_count": 3,
     "metadata": {},
     "output_type": "execute_result"
    }
   ],
   "source": [
    "#create analysis data frames\n",
    "df = p_df[['Project Number','Sector','Date Completed','Expected KWh Annual Production', 'Year-Month']]\n",
    "\n",
    "residential_df = df.loc[df['Sector'] == 'Residential']\n",
    "residential_df = residential_df.reset_index()\n",
    "residential_df = residential_df.drop(columns=['index'])\n",
    "residential_df = residential_df.sort_values('Date Completed', ascending=True)\n",
    "\n",
    "non_residential_df = df.loc[df['Sector'] == 'Non-Residential']\n",
    "non_residential_df = non_residential_df.reset_index()\n",
    "non_residential_df = non_residential_df.drop(columns=['index'])\n",
    "non_residential_df = non_residential_df.sort_values('Date Completed', ascending=True)\n",
    "\n",
    "residential_df.head()\n"
   ]
  },
  {
   "cell_type": "code",
   "execution_count": 4,
   "metadata": {},
   "outputs": [
    {
     "data": {
      "text/html": [
       "<div>\n",
       "<style scoped>\n",
       "    .dataframe tbody tr th:only-of-type {\n",
       "        vertical-align: middle;\n",
       "    }\n",
       "\n",
       "    .dataframe tbody tr th {\n",
       "        vertical-align: top;\n",
       "    }\n",
       "\n",
       "    .dataframe thead th {\n",
       "        text-align: right;\n",
       "    }\n",
       "</style>\n",
       "<table border=\"1\" class=\"dataframe\">\n",
       "  <thead>\n",
       "    <tr style=\"text-align: right;\">\n",
       "      <th></th>\n",
       "      <th>Date Completed</th>\n",
       "      <th>Project Count</th>\n",
       "      <th>Expected KWh Annual Production</th>\n",
       "    </tr>\n",
       "    <tr>\n",
       "      <th>Year-Month</th>\n",
       "      <th></th>\n",
       "      <th></th>\n",
       "      <th></th>\n",
       "    </tr>\n",
       "  </thead>\n",
       "  <tbody>\n",
       "    <tr>\n",
       "      <th>2001-12</th>\n",
       "      <td>2001-12-17</td>\n",
       "      <td>1</td>\n",
       "      <td>5940</td>\n",
       "    </tr>\n",
       "    <tr>\n",
       "      <th>2002-05</th>\n",
       "      <td>2002-05-15</td>\n",
       "      <td>1</td>\n",
       "      <td>11738</td>\n",
       "    </tr>\n",
       "    <tr>\n",
       "      <th>2003-06</th>\n",
       "      <td>2003-06-09</td>\n",
       "      <td>1</td>\n",
       "      <td>17590</td>\n",
       "    </tr>\n",
       "    <tr>\n",
       "      <th>2003-07</th>\n",
       "      <td>2003-07-31</td>\n",
       "      <td>2</td>\n",
       "      <td>31084</td>\n",
       "    </tr>\n",
       "    <tr>\n",
       "      <th>2003-09</th>\n",
       "      <td>2003-09-29</td>\n",
       "      <td>1</td>\n",
       "      <td>2712</td>\n",
       "    </tr>\n",
       "  </tbody>\n",
       "</table>\n",
       "</div>"
      ],
      "text/plain": [
       "           Date Completed  Project Count  Expected KWh Annual Production\n",
       "Year-Month                                                              \n",
       "2001-12        2001-12-17              1                            5940\n",
       "2002-05        2002-05-15              1                           11738\n",
       "2003-06        2003-06-09              1                           17590\n",
       "2003-07        2003-07-31              2                           31084\n",
       "2003-09        2003-09-29              1                            2712"
      ]
     },
     "execution_count": 4,
     "metadata": {},
     "output_type": "execute_result"
    }
   ],
   "source": [
    "# RESIDENTIAL APPLICATION DATE\n",
    "res_df = residential_df.groupby('Year-Month')\n",
    "res_date_df = res_df['Date Completed'].max()\n",
    "res_date_df = res_date_df.to_frame()\n",
    "res_date_df = res_date_df.sort_values('Date Completed', ascending=True)\n",
    "res_date_df.head()\n",
    "\n",
    "res_kwh_df = res_df['Expected KWh Annual Production'].sum()\n",
    "res_kwh_df = res_kwh_df.to_frame()\n",
    "res_kwh_df.head()\n",
    "\n",
    "res_count_df = residential_df['Year-Month'].value_counts()\n",
    "res_count_df = res_count_df.to_frame()\n",
    "res_count_df = res_count_df.reset_index()\n",
    "res_count_df = res_count_df.rename(columns={'Year-Month':'Project Count', 'index':'Year-Month'})\n",
    "res_count_df = res_count_df.set_index('Year-Month')\n",
    "res_count_df.head()\n",
    "\n",
    "#FINAL RESIDENTIAL DATAFRAME\n",
    "merge1 = res_date_df.merge(res_count_df, left_index=True, right_index=True)\n",
    "final_res_df = merge1.merge(res_kwh_df, left_index=True, right_index=True)\n",
    "final_res_df.head()\n",
    "\n",
    "# NON-RESIDENTIAL APPLICATION DATE\n",
    "non_res_df = non_residential_df.groupby('Year-Month')\n",
    "non_res_date_df = non_res_df['Date Completed'].max()\n",
    "non_res_date_df = non_res_date_df.to_frame()\n",
    "non_res_date_df = non_res_date_df.sort_values('Date Completed', ascending=True)\n",
    "non_res_date_df.head()\n",
    "\n",
    "non_res_kwh_df = non_res_df['Expected KWh Annual Production'].sum()\n",
    "non_res_kwh_df = non_res_kwh_df.to_frame()\n",
    "non_res_kwh_df.head()\n",
    "\n",
    "non_res_count_df = non_residential_df['Year-Month'].value_counts()\n",
    "non_res_count_df = non_res_count_df.to_frame()\n",
    "non_res_count_df = non_res_count_df.reset_index()\n",
    "non_res_count_df = non_res_count_df.rename(columns={'Year-Month':'Project Count', 'index':'Year-Month'})\n",
    "non_res_count_df = non_res_count_df.set_index('Year-Month')\n",
    "non_res_count_df.head()\n",
    "\n",
    "#FINAL NONRESIDENTIAL DATAFRAME\n",
    "merge2 = non_res_date_df.merge(non_res_count_df, left_index=True, right_index=True)\n",
    "final_non_res_df = merge2.merge(non_res_kwh_df, left_index=True, right_index=True)\n",
    "final_non_res_df.head()\n"
   ]
  },
  {
   "cell_type": "code",
   "execution_count": 5,
   "metadata": {},
   "outputs": [
    {
     "data": {
      "image/png": "[encoded data removed]",
      "text/plain": [
       "<matplotlib.figure.Figure at 0x110104b00>"
      ]
     },
     "metadata": {},
     "output_type": "display_data"
    }
   ],
   "source": [
    "plt.figure(figsize=(8.5,3.7))\n",
    "\n",
    "plt.plot(final_res_df['Date Completed'], final_res_df['Project Count'], color='blue', label='Residential')\n",
    "plt.plot(final_non_res_df['Date Completed'], final_non_res_df['Project Count'], color='red', label='Non-Residential')\n",
    "plt.xlabel('Year-Month')\n",
    "plt.ylabel('Total Projects')\n",
    "plt.title(\"Solar Penetration in New York\")\n",
    "plt.legend()\n",
    "plt.savefig('SolarPenetrationNY.png')\n",
    "plt.show()\n"
   ]
  },
  {
   "cell_type": "code",
   "execution_count": 6,
   "metadata": {},
   "outputs": [
    {
     "data": {
      "image/png": "[encoded data removed]",
      "text/plain": [
       "<matplotlib.figure.Figure at 0x1a146b34e0>"
      ]
     },
     "metadata": {},
     "output_type": "display_data"
    }
   ],
   "source": [
    "plt.figure(figsize=(8.5,3.7))\n",
    "\n",
    "plt.plot(final_res_df['Date Completed'], final_res_df['Expected KWh Annual Production'], color='blue', label='Residential')\n",
    "plt.plot(final_non_res_df['Date Completed'], final_non_res_df['Expected KWh Annual Production'], color='red', label='Non-Residential')\n",
    "plt.xlabel('Year-Month')\n",
    "plt.ylabel('Total KWh')\n",
    "plt.title(\"Solar Generation Output in New York\")\n",
    "plt.legend()\n",
    "plt.savefig('SolarGenerationNY.png')\n",
    "plt.show()\n"
   ]
  },
  {
   "cell_type": "code",
   "execution_count": null,
   "metadata": {},
   "outputs": [],
   "source": []
  }
 ],
 "metadata": {
  "kernelspec": {
   "display_name": "Python 3",
   "language": "python",
   "name": "python3"
  },
  "language_info": {
   "codemirror_mode": {
    "name": "ipython",
    "version": 3
   },
   "file_extension": ".py",
   "mimetype": "text/x-python",
   "name": "python",
   "nbconvert_exporter": "python",
   "pygments_lexer": "ipython3",
   "version": "3.6.4"
  }
 },
 "nbformat": 4,
 "nbformat_minor": 2
}
