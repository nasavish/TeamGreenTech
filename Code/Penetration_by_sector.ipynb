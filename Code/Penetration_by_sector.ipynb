{
 "cells": [
  {
   "cell_type": "code",
   "execution_count": 36,
   "metadata": {},
   "outputs": [],
   "source": [
    "# Dependencies\n",
    "import numpy as np\n",
    "import pandas as pd\n",
    "import matplotlib.pyplot as plt\n",
    "import seaborn as sns\n",
    "from datetime import *\n"
   ]
  },
  {
   "cell_type": "code",
   "execution_count": 37,
   "metadata": {},
   "outputs": [
    {
     "name": "stderr",
     "output_type": "stream",
     "text": [
      "/Users/dmanandhar/anaconda3/envs/PythonData/lib/python3.6/site-packages/IPython/core/interactiveshell.py:2728: DtypeWarning: Columns (1) have mixed types. Specify dtype option on import or set low_memory=False.\n",
      "  interactivity=interactivity, compiler=compiler, result=result)\n"
     ]
    }
   ],
   "source": [
    "p_data = \"project_data_final.csv\"\n",
    "p_df = pd.read_csv(p_data)\n",
    "p_df['Date Application Received'] = pd.to_datetime(p_df['Date Application Received'])\n",
    "#p_df = p_df.sort_values('Date Application Received', ascending=True)\n",
    "p_df = p_df.drop(columns=['Unnamed: 0'])\n",
    "#p_df.head()"
   ]
  },
  {
   "cell_type": "code",
   "execution_count": 38,
   "metadata": {},
   "outputs": [],
   "source": [
    "#creating column with concatenated year and month\n",
    "#p_df['Year-Month'] = p_df['Completed Year'].map(str) + \"-\" + p_df['Completed Month'].map(str)\n"
   ]
  },
  {
   "cell_type": "code",
   "execution_count": 39,
   "metadata": {},
   "outputs": [
    {
     "data": {
      "text/html": [
       "<div>\n",
       "<style scoped>\n",
       "    .dataframe tbody tr th:only-of-type {\n",
       "        vertical-align: middle;\n",
       "    }\n",
       "\n",
       "    .dataframe tbody tr th {\n",
       "        vertical-align: top;\n",
       "    }\n",
       "\n",
       "    .dataframe thead th {\n",
       "        text-align: right;\n",
       "    }\n",
       "</style>\n",
       "<table border=\"1\" class=\"dataframe\">\n",
       "  <thead>\n",
       "    <tr style=\"text-align: right;\">\n",
       "      <th></th>\n",
       "      <th>Project Number</th>\n",
       "      <th>Sector</th>\n",
       "      <th>Date Application Received</th>\n",
       "      <th>Expected KWh Annual Production</th>\n",
       "    </tr>\n",
       "  </thead>\n",
       "  <tbody>\n",
       "    <tr>\n",
       "      <th>124</th>\n",
       "      <td>2011-156225-SLPR</td>\n",
       "      <td>Residential</td>\n",
       "      <td>2000-12-21</td>\n",
       "      <td>1409</td>\n",
       "    </tr>\n",
       "    <tr>\n",
       "      <th>621</th>\n",
       "      <td>2011-156227-SLPR</td>\n",
       "      <td>Residential</td>\n",
       "      <td>2000-12-21</td>\n",
       "      <td>1409</td>\n",
       "    </tr>\n",
       "    <tr>\n",
       "      <th>467</th>\n",
       "      <td>2011-156229-SLPR</td>\n",
       "      <td>Residential</td>\n",
       "      <td>2001-03-07</td>\n",
       "      <td>2113</td>\n",
       "    </tr>\n",
       "    <tr>\n",
       "      <th>775</th>\n",
       "      <td>2011-156228-SLPR</td>\n",
       "      <td>Residential</td>\n",
       "      <td>2001-03-07</td>\n",
       "      <td>5165</td>\n",
       "    </tr>\n",
       "    <tr>\n",
       "      <th>826</th>\n",
       "      <td>2011-156239-SLPR</td>\n",
       "      <td>Residential</td>\n",
       "      <td>2001-07-02</td>\n",
       "      <td>2582</td>\n",
       "    </tr>\n",
       "  </tbody>\n",
       "</table>\n",
       "</div>"
      ],
      "text/plain": [
       "       Project Number       Sector Date Application Received  \\\n",
       "124  2011-156225-SLPR  Residential                2000-12-21   \n",
       "621  2011-156227-SLPR  Residential                2000-12-21   \n",
       "467  2011-156229-SLPR  Residential                2001-03-07   \n",
       "775  2011-156228-SLPR  Residential                2001-03-07   \n",
       "826  2011-156239-SLPR  Residential                2001-07-02   \n",
       "\n",
       "     Expected KWh Annual Production  \n",
       "124                            1409  \n",
       "621                            1409  \n",
       "467                            2113  \n",
       "775                            5165  \n",
       "826                            2582  "
      ]
     },
     "execution_count": 39,
     "metadata": {},
     "output_type": "execute_result"
    }
   ],
   "source": [
    "#create analysis data frames\n",
    "df = p_df[['Project Number','Sector','Date Application Received','Expected KWh Annual Production']]\n",
    "\n",
    "residential_df = df.loc[df['Sector'] == 'Residential']\n",
    "residential_df = residential_df.reset_index()\n",
    "residential_df = residential_df.drop(columns=['index'])\n",
    "residential_df = residential_df.sort_values('Date Application Received', ascending=True)\n",
    "\n",
    "non_residential_df = df.loc[df['Sector'] == 'Non-Residential']\n",
    "non_residential_df = non_residential_df.reset_index()\n",
    "non_residential_df = non_residential_df.drop(columns=['index'])\n",
    "non_residential_df = non_residential_df.sort_values('Date Application Received', ascending=True)\n",
    "\n",
    "residential_df.head()\n"
   ]
  },
  {
   "cell_type": "code",
   "execution_count": 40,
   "metadata": {},
   "outputs": [
    {
     "data": {
      "text/html": [
       "<div>\n",
       "<style scoped>\n",
       "    .dataframe tbody tr th:only-of-type {\n",
       "        vertical-align: middle;\n",
       "    }\n",
       "\n",
       "    .dataframe tbody tr th {\n",
       "        vertical-align: top;\n",
       "    }\n",
       "\n",
       "    .dataframe thead th {\n",
       "        text-align: right;\n",
       "    }\n",
       "</style>\n",
       "<table border=\"1\" class=\"dataframe\">\n",
       "  <thead>\n",
       "    <tr style=\"text-align: right;\">\n",
       "      <th></th>\n",
       "      <th>Date</th>\n",
       "      <th>count</th>\n",
       "      <th>Total KWh</th>\n",
       "    </tr>\n",
       "  </thead>\n",
       "  <tbody>\n",
       "    <tr>\n",
       "      <th>0</th>\n",
       "      <td>2000-12-21</td>\n",
       "      <td>2</td>\n",
       "      <td>2818</td>\n",
       "    </tr>\n",
       "    <tr>\n",
       "      <th>1</th>\n",
       "      <td>2001-03-07</td>\n",
       "      <td>2</td>\n",
       "      <td>7278</td>\n",
       "    </tr>\n",
       "    <tr>\n",
       "      <th>2</th>\n",
       "      <td>2001-07-02</td>\n",
       "      <td>1</td>\n",
       "      <td>2582</td>\n",
       "    </tr>\n",
       "    <tr>\n",
       "      <th>3</th>\n",
       "      <td>2001-08-17</td>\n",
       "      <td>1</td>\n",
       "      <td>2817</td>\n",
       "    </tr>\n",
       "    <tr>\n",
       "      <th>4</th>\n",
       "      <td>2001-08-28</td>\n",
       "      <td>2</td>\n",
       "      <td>4695</td>\n",
       "    </tr>\n",
       "  </tbody>\n",
       "</table>\n",
       "</div>"
      ],
      "text/plain": [
       "        Date  count  Total KWh\n",
       "0 2000-12-21      2       2818\n",
       "1 2001-03-07      2       7278\n",
       "2 2001-07-02      1       2582\n",
       "3 2001-08-17      1       2817\n",
       "4 2001-08-28      2       4695"
      ]
     },
     "execution_count": 40,
     "metadata": {},
     "output_type": "execute_result"
    }
   ],
   "source": [
    "res_df = residential_df.groupby('Date Application Received').agg({'Date Application Received':'count','Expected KWh Annual Production':['sum']})\n",
    "res_df = res_df.reset_index()\n",
    "\n",
    "res_date_count_df = res_df['Date Application Received']\n",
    "res_date_count_df = res_date_count_df.rename(columns={\"\":\"Date\"})\n",
    "kwh = temp_df['Expected KWh Annual Production']['sum']\n",
    "res_date_count_df['Total KWh'] = kwh\n",
    "\n",
    "#date_count_df.to_csv('date_count.csv')\n",
    "date_count_df.head()\n"
   ]
  },
  {
   "cell_type": "code",
   "execution_count": 49,
   "metadata": {},
   "outputs": [
    {
     "data": {
      "text/plain": [
       "Text(0.5,1,'Residential Solar Power Generation')"
      ]
     },
     "execution_count": 49,
     "metadata": {},
     "output_type": "execute_result"
    },
    {
     "data": {
      "image/png": "[encoded data removed]",
      "text/plain": [
       "<matplotlib.figure.Figure at 0x1a1775ca20>"
      ]
     },
     "metadata": {},
     "output_type": "display_data"
    }
   ],
   "source": [
    "#scat = sns.tsplot(x='Date',y='Total KWh', data=date_count_df,\n",
    "#                  hue='count', fit_reg=False, size = 5, aspect = 2, \n",
    "#                  palette=\"Set3\",\n",
    "#                  scatter_kws={'edgecolors':'black'})\n",
    "plt.plot_date(res_date_count_df[\"Date\"], res_date_count_df[\"Total KWh\"], marker=\"o\")\n",
    "plt.xlabel('Year')\n",
    "plt.ylabel('Total KWh')\n",
    "plt.title(\"Residential Solar Power Generation\")\n",
    "#date_count_df.plot_date"
   ]
  },
  {
   "cell_type": "code",
   "execution_count": 42,
   "metadata": {},
   "outputs": [],
   "source": [
    "non_res_df = non_residential_df.groupby('Date Application Received').agg({'Date Application Received':'count','Expected KWh Annual Production':['sum']})\n",
    "non_res_df = non_res_df.reset_index()\n",
    "\n",
    "non_res_date_count_df = non_res_df['Date Application Received']\n",
    "non_res_date_count_df = non_res_date_count_df.rename(columns={\"\":\"Date\"})\n",
    "kwh = temp_df['Expected KWh Annual Production']['sum']\n",
    "non_res_date_count_df['Total KWh'] = kwh\n",
    "\n",
    "#date_count_df.to_csv('date_count.csv')"
   ]
  },
  {
   "cell_type": "code",
   "execution_count": 50,
   "metadata": {},
   "outputs": [
    {
     "data": {
      "text/plain": [
       "Text(0.5,1,'Non-Residential Solar Power Generation')"
      ]
     },
     "execution_count": 50,
     "metadata": {},
     "output_type": "execute_result"
    },
    {
     "data": {
      "image/png": "[encoded data removed]",
      "text/plain": [
       "<matplotlib.figure.Figure at 0x1106f5d30>"
      ]
     },
     "metadata": {},
     "output_type": "display_data"
    }
   ],
   "source": [
    "plt.plot_date(non_res_date_count_df[\"Date\"], non_res_date_count_df[\"Total KWh\"], marker=\"o\")\n",
    "plt.xlabel('Year')\n",
    "plt.ylabel('Total KWh')\n",
    "plt.title(\"Non-Residential Solar Power Generation\")"
   ]
  },
  {
   "cell_type": "code",
   "execution_count": 48,
   "metadata": {},
   "outputs": [
    {
     "data": {
      "text/html": [
       "<div>\n",
       "<style scoped>\n",
       "    .dataframe tbody tr th:only-of-type {\n",
       "        vertical-align: middle;\n",
       "    }\n",
       "\n",
       "    .dataframe tbody tr th {\n",
       "        vertical-align: top;\n",
       "    }\n",
       "\n",
       "    .dataframe thead th {\n",
       "        text-align: right;\n",
       "    }\n",
       "</style>\n",
       "<table border=\"1\" class=\"dataframe\">\n",
       "  <thead>\n",
       "    <tr style=\"text-align: right;\">\n",
       "      <th></th>\n",
       "      <th>Date</th>\n",
       "      <th>count</th>\n",
       "      <th>Total KWh</th>\n",
       "    </tr>\n",
       "  </thead>\n",
       "  <tbody>\n",
       "    <tr>\n",
       "      <th>0</th>\n",
       "      <td>2000-12-21</td>\n",
       "      <td>2</td>\n",
       "      <td>2818</td>\n",
       "    </tr>\n",
       "    <tr>\n",
       "      <th>1</th>\n",
       "      <td>2001-03-07</td>\n",
       "      <td>2</td>\n",
       "      <td>7278</td>\n",
       "    </tr>\n",
       "    <tr>\n",
       "      <th>2</th>\n",
       "      <td>2001-07-02</td>\n",
       "      <td>1</td>\n",
       "      <td>2582</td>\n",
       "    </tr>\n",
       "    <tr>\n",
       "      <th>3</th>\n",
       "      <td>2001-08-17</td>\n",
       "      <td>1</td>\n",
       "      <td>2817</td>\n",
       "    </tr>\n",
       "    <tr>\n",
       "      <th>4</th>\n",
       "      <td>2001-08-28</td>\n",
       "      <td>2</td>\n",
       "      <td>4695</td>\n",
       "    </tr>\n",
       "  </tbody>\n",
       "</table>\n",
       "</div>"
      ],
      "text/plain": [
       "        Date  count  Total KWh\n",
       "0 2000-12-21      2       2818\n",
       "1 2001-03-07      2       7278\n",
       "2 2001-07-02      1       2582\n",
       "3 2001-08-17      1       2817\n",
       "4 2001-08-28      2       4695"
      ]
     },
     "execution_count": 48,
     "metadata": {},
     "output_type": "execute_result"
    }
   ],
   "source": [
    "date_count = dude_df['Date Application Received']\n",
    "date_count = date_count.rename(columns={\"\":\"Date\"})\n",
    "kwh = dude_df['Expected KWh Annual Production']['sum']\n",
    "date_count['Total KWh'] = kwh\n",
    "date_count.head()"
   ]
  },
  {
   "cell_type": "code",
   "execution_count": 9,
   "metadata": {},
   "outputs": [
    {
     "name": "stdout",
     "output_type": "stream",
     "text": [
      "  Date_Application_Received  Count Year-Month\n",
      "0                2000-12-21      2    2000-12\n",
      "1                2001-03-07      2    2001-03\n",
      "2                2001-07-02      1    2001-07\n",
      "3                2001-08-17      1    2001-08\n",
      "4                2001-08-28      2    2001-08\n",
      "  Year-Month  sum\n",
      "0    2000-12    2\n",
      "1    2001-03    2\n",
      "2    2001-07    1\n",
      "3    2001-08    3\n",
      "4    2001-09    1\n"
     ]
    }
   ],
   "source": [
    "residential_project_count_df = residential_df['Date Application Received'].value_counts().to_frame()\n",
    "residential_project_count_df = residential_project_count_df.reset_index()\n",
    "\n",
    "residential_project_count_df = residential_project_count_df.rename(columns={'index': 'Date_Application_Received', 'Date Application Received': 'Count'})\n",
    "residential_project_count_df = residential_project_count_df.sort_values('Date_Application_Received', ascending=True)\n",
    "residential_project_count_df = residential_project_count_df.reset_index()\n",
    "\n",
    "residential_project_count_df = residential_project_count_df.drop(columns=['index'])\n",
    "\n",
    "dates = residential_project_count_df['Date_Application_Received']\n",
    "y_m = []\n",
    "for date in dates:\n",
    "    y_m.append(date.strftime('%Y-%m'))\n",
    "    \n",
    "residential_project_count_df['Year-Month'] = y_m\n",
    "    \n",
    "print(residential_project_count_df.head())\n",
    "\n",
    "sorted_residential_project_count_df = residential_project_count_df.groupby('Year-Month').Count.agg(['sum'])\n",
    "sorted_residential_project_count_df = sorted_residential_project_count_df.reset_index()\n",
    "print(sorted_residential_project_count_df.head())\n"
   ]
  },
  {
   "cell_type": "code",
   "execution_count": 10,
   "metadata": {},
   "outputs": [
    {
     "name": "stdout",
     "output_type": "stream",
     "text": [
      "  Date_Application_Received  Count Year-Month\n",
      "0                2001-12-17      1    2001-12\n",
      "1                2002-05-15      1    2002-05\n",
      "2                2003-02-04      1    2003-02\n",
      "3                2003-04-10      2    2003-04\n",
      "4                2003-05-05      1    2003-05\n",
      "  Year-Month  sum\n",
      "0    2001-12    1\n",
      "1    2002-05    1\n",
      "2    2003-02    1\n",
      "3    2003-04    2\n",
      "4    2003-05    2\n"
     ]
    }
   ],
   "source": [
    "non_residential_project_count_df = non_residential_df['Date Application Received'].value_counts().to_frame()\n",
    "non_residential_project_count_df = non_residential_project_count_df.reset_index()\n",
    "\n",
    "non_residential_project_count_df = non_residential_project_count_df.rename(columns={'index': 'Date_Application_Received', 'Date Application Received': 'Count'})\n",
    "non_residential_project_count_df = non_residential_project_count_df.sort_values('Date_Application_Received', ascending=True)\n",
    "non_residential_project_count_df = non_residential_project_count_df.reset_index()\n",
    "\n",
    "non_residential_project_count_df = non_residential_project_count_df.drop(columns=['index'])\n",
    "\n",
    "dates = non_residential_project_count_df['Date_Application_Received']\n",
    "y_m = []\n",
    "for date in dates:\n",
    "    y_m.append(date.strftime('%Y-%m'))\n",
    "\n",
    "non_residential_project_count_df['Year-Month'] = y_m\n",
    "print(non_residential_project_count_df.head())\n",
    "\n",
    "sorted_non_residential_project_count_df = non_residential_project_count_df.groupby('Year-Month').Count.agg(['sum'])\n",
    "sorted_non_residential_project_count_df = sorted_non_residential_project_count_df.reset_index()\n",
    "\n",
    "print(sorted_non_residential_project_count_df.head())"
   ]
  },
  {
   "cell_type": "code",
   "execution_count": 13,
   "metadata": {},
   "outputs": [
    {
     "data": {
      "image/png": "[encoded data removed]",
      "text/plain": [
       "<matplotlib.figure.Figure at 0x118e5d710>"
      ]
     },
     "metadata": {},
     "output_type": "display_data"
    }
   ],
   "source": [
    "scat = sorted_residential_project_count_df.plot(kind='line', x='Year-Month',y='sum')"
   ]
  },
  {
   "cell_type": "code",
   "execution_count": 14,
   "metadata": {},
   "outputs": [
    {
     "data": {
      "image/png": "[encoded data removed]",
      "text/plain": [
       "<matplotlib.figure.Figure at 0x118c33518>"
      ]
     },
     "metadata": {},
     "output_type": "display_data"
    }
   ],
   "source": [
    "scat = sorted_non_residential_project_count_df.plot(kind='line', x='Year-Month',y='sum')"
   ]
  },
  {
   "cell_type": "code",
   "execution_count": null,
   "metadata": {},
   "outputs": [],
   "source": []
  }
 ],
 "metadata": {
  "kernelspec": {
   "display_name": "Python 3",
   "language": "python",
   "name": "python3"
  },
  "language_info": {
   "codemirror_mode": {
    "name": "ipython",
    "version": 3
   },
   "file_extension": ".py",
   "mimetype": "text/x-python",
   "name": "python",
   "nbconvert_exporter": "python",
   "pygments_lexer": "ipython3",
   "version": "3.6.4"
  }
 },
 "nbformat": 4,
 "nbformat_minor": 2
}
